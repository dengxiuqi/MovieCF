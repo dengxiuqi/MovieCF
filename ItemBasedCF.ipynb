{
 "cells": [
  {
   "cell_type": "code",
   "execution_count": 6,
   "metadata": {},
   "outputs": [],
   "source": [
    "import numpy as np\n",
    "import pandas as pd\n",
    "from itertools import permutations"
   ]
  },
  {
   "cell_type": "code",
   "execution_count": 2,
   "metadata": {
    "collapsed": true
   },
   "outputs": [],
   "source": [
    "matrix = np.load(\"matrix.npy\")\n",
    "matrix = matrix.astype(np.int32)"
   ]
  },
  {
   "cell_type": "markdown",
   "metadata": {},
   "source": [
    "#### 统计每部电影共被看过的次数, 用矩阵P存储"
   ]
  },
  {
   "cell_type": "code",
   "execution_count": 20,
   "metadata": {
    "collapsed": true
   },
   "outputs": [],
   "source": [
    "P = (matrix>0).sum(0)"
   ]
  },
  {
   "cell_type": "markdown",
   "metadata": {},
   "source": [
    "#### 统计同时喜欢电影i和j的用户数, 用矩阵C存储"
   ]
  },
  {
   "cell_type": "code",
   "execution_count": 7,
   "metadata": {
    "collapsed": true
   },
   "outputs": [],
   "source": [
    "co_occur = {}\n",
    "for i in range(len(matrix)):\n",
    "    temp = []\n",
    "    for j in range(len(matrix[0])):\n",
    "        if matrix[i][j]:\n",
    "            temp.append(j)\n",
    "    for x, y in permutations(temp, 2):\n",
    "        co_occur[(x, y)] = co_occur.get((x, y), 0) + 1"
   ]
  },
  {
   "cell_type": "code",
   "execution_count": 13,
   "metadata": {
    "collapsed": true
   },
   "outputs": [],
   "source": [
    "C = np.zeros((len(matrix[0]), len(matrix[0])), dtype=np.int32)\n",
    "for i in range(len(matrix[0])):\n",
    "    for j in range(i):\n",
    "        C[i, j] = C[j, i] = co_occur.get((i, j), 0)"
   ]
  },
  {
   "cell_type": "markdown",
   "metadata": {},
   "source": [
    "#### Jaccard相似度计算"
   ]
  },
  {
   "cell_type": "code",
   "execution_count": 29,
   "metadata": {
    "collapsed": true
   },
   "outputs": [],
   "source": [
    "def jaccard_similarity(movieid1, movieid2):\n",
    "    if movieid1 == movieid2:\n",
    "        return 1\n",
    "    if P[movieid1] == 0 or P[movieid2] == 0:\n",
    "        return 0\n",
    "    return C[movieid1][movieid2] / np.math.sqrt(P[movieid1] * P[movieid2])"
   ]
  },
  {
   "cell_type": "code",
   "execution_count": 32,
   "metadata": {},
   "outputs": [
    {
     "data": {
      "text/plain": [
       "0.11168448404723388"
      ]
     },
     "execution_count": 32,
     "metadata": {},
     "output_type": "execute_result"
    }
   ],
   "source": [
    "jaccard_similarity(0, 1)"
   ]
  },
  {
   "cell_type": "markdown",
   "metadata": {},
   "source": [
    "#### 计算物品相似度矩阵"
   ]
  },
  {
   "cell_type": "code",
   "execution_count": 35,
   "metadata": {},
   "outputs": [],
   "source": [
    "item_similarity = np.zeros((len(matrix[0]), len(matrix[0])))\n",
    "for i in range(len(matrix[0])):\n",
    "    item_similarity[i, i] = 1\n",
    "    for j in range(i):\n",
    "        item_similarity[i, j] = item_similarity[j, i] = jaccard_similarity(i, j)"
   ]
  },
  {
   "cell_type": "code",
   "execution_count": 36,
   "metadata": {},
   "outputs": [
    {
     "data": {
      "text/plain": [
       "array([[1.        , 0.11168448, 0.08143705, ..., 0.02526993, 0.01035242,\n",
       "        0.04810651],\n",
       "       [0.11168448, 1.        , 0.08505452, ..., 0.0255038 , 0.00845077,\n",
       "        0.03913198],\n",
       "       [0.08143705, 0.08505452, 1.        , ..., 0.02245774, 0.00632523,\n",
       "        0.03437734],\n",
       "       ...,\n",
       "       [0.02526993, 0.0255038 , 0.02245774, ..., 1.        , 0.05120916,\n",
       "        0.06679668],\n",
       "       [0.01035242, 0.00845077, 0.00632523, ..., 0.05120916, 1.        ,\n",
       "        0.05225919],\n",
       "       [0.04810651, 0.03913198, 0.03437734, ..., 0.06679668, 0.05225919,\n",
       "        1.        ]])"
      ]
     },
     "execution_count": 36,
     "metadata": {},
     "output_type": "execute_result"
    }
   ],
   "source": [
    "item_similarity"
   ]
  },
  {
   "cell_type": "markdown",
   "metadata": {},
   "source": [
    "#### 获取与指定电影最相似的topK个电影"
   ]
  },
  {
   "cell_type": "code",
   "execution_count": 49,
   "metadata": {
    "collapsed": true
   },
   "outputs": [],
   "source": [
    "def similar_movies(movieid, topK=10):\n",
    "    # 得到目标用户与其他用户的相似度\n",
    "    sim = item_similarity[movieid, :]\n",
    "    # 按相似度排序（由大到小）\n",
    "    movies = sim.argsort()[::-1]\n",
    "    # 要除去用户本身\n",
    "    movies = movies[1: topK+1]\n",
    "    return movies"
   ]
  },
  {
   "cell_type": "markdown",
   "metadata": {},
   "source": [
    "#### 推荐电影"
   ]
  },
  {
   "cell_type": "code",
   "execution_count": 50,
   "metadata": {
    "collapsed": true
   },
   "outputs": [],
   "source": [
    "userid = 0   # 目标用户id\n",
    "topN = 10   # 推荐电影的数量"
   ]
  },
  {
   "cell_type": "code",
   "execution_count": 51,
   "metadata": {},
   "outputs": [],
   "source": [
    "scores = np.zeros(len(matrix[0]))\n",
    "for movieid in range(len(matrix[0])):\n",
    "    if matrix[userid][movieid] == 0:\n",
    "        continue\n",
    "    for mid in similar_movies(movieid):\n",
    "        if matrix[userid, mid] == 0:   # 目标用户尚未评价过\n",
    "            scores[mid] += matrix[userid][movieid] * item_similarity[movieid, mid]"
   ]
  },
  {
   "cell_type": "code",
   "execution_count": 54,
   "metadata": {},
   "outputs": [],
   "source": [
    "# 获取相似度最高的电影编号\n",
    "candidates = scores.argsort()[::-1]\n",
    "# 获取得分最高的前topN部电影\n",
    "candidates = candidates[:topN]"
   ]
  },
  {
   "cell_type": "code",
   "execution_count": 55,
   "metadata": {},
   "outputs": [
    {
     "data": {
      "text/html": [
       "<div>\n",
       "<style>\n",
       "    .dataframe thead tr:only-child th {\n",
       "        text-align: right;\n",
       "    }\n",
       "\n",
       "    .dataframe thead th {\n",
       "        text-align: left;\n",
       "    }\n",
       "\n",
       "    .dataframe tbody tr th {\n",
       "        vertical-align: top;\n",
       "    }\n",
       "</style>\n",
       "<table border=\"1\" class=\"dataframe\">\n",
       "  <thead>\n",
       "    <tr style=\"text-align: right;\">\n",
       "      <th></th>\n",
       "      <th>movieid</th>\n",
       "      <th>score</th>\n",
       "    </tr>\n",
       "  </thead>\n",
       "  <tbody>\n",
       "    <tr>\n",
       "      <th>0</th>\n",
       "      <td>363</td>\n",
       "      <td>5.598030</td>\n",
       "    </tr>\n",
       "    <tr>\n",
       "      <th>1</th>\n",
       "      <td>2715</td>\n",
       "      <td>5.522734</td>\n",
       "    </tr>\n",
       "    <tr>\n",
       "      <th>2</th>\n",
       "      <td>2173</td>\n",
       "      <td>5.075565</td>\n",
       "    </tr>\n",
       "    <tr>\n",
       "      <th>3</th>\n",
       "      <td>1195</td>\n",
       "      <td>4.558809</td>\n",
       "    </tr>\n",
       "    <tr>\n",
       "      <th>4</th>\n",
       "      <td>2086</td>\n",
       "      <td>4.405349</td>\n",
       "    </tr>\n",
       "    <tr>\n",
       "      <th>5</th>\n",
       "      <td>1579</td>\n",
       "      <td>3.987923</td>\n",
       "    </tr>\n",
       "    <tr>\n",
       "      <th>6</th>\n",
       "      <td>1281</td>\n",
       "      <td>3.923969</td>\n",
       "    </tr>\n",
       "    <tr>\n",
       "      <th>7</th>\n",
       "      <td>2079</td>\n",
       "      <td>3.877979</td>\n",
       "    </tr>\n",
       "    <tr>\n",
       "      <th>8</th>\n",
       "      <td>595</td>\n",
       "      <td>3.380017</td>\n",
       "    </tr>\n",
       "    <tr>\n",
       "      <th>9</th>\n",
       "      <td>592</td>\n",
       "      <td>3.241676</td>\n",
       "    </tr>\n",
       "  </tbody>\n",
       "</table>\n",
       "</div>"
      ],
      "text/plain": [
       "   movieid     score\n",
       "0      363  5.598030\n",
       "1     2715  5.522734\n",
       "2     2173  5.075565\n",
       "3     1195  4.558809\n",
       "4     2086  4.405349\n",
       "5     1579  3.987923\n",
       "6     1281  3.923969\n",
       "7     2079  3.877979\n",
       "8      595  3.380017\n",
       "9      592  3.241676"
      ]
     },
     "execution_count": 55,
     "metadata": {},
     "output_type": "execute_result"
    }
   ],
   "source": [
    "df = pd.DataFrame(list(zip(candidates, scores[candidates])), columns=[\"movieid\", \"score\"])\n",
    "df"
   ]
  },
  {
   "cell_type": "code",
   "execution_count": null,
   "metadata": {
    "collapsed": true
   },
   "outputs": [],
   "source": []
  }
 ],
 "metadata": {
  "kernelspec": {
   "display_name": "Python 3",
   "language": "python",
   "name": "python3"
  },
  "language_info": {
   "codemirror_mode": {
    "name": "ipython",
    "version": 3
   },
   "file_extension": ".py",
   "mimetype": "text/x-python",
   "name": "python",
   "nbconvert_exporter": "python",
   "pygments_lexer": "ipython3",
   "version": "3.6.8"
  }
 },
 "nbformat": 4,
 "nbformat_minor": 2
}
